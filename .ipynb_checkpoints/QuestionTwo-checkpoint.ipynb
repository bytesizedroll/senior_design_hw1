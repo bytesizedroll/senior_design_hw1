{
 "cells": [
  {
   "cell_type": "markdown",
   "metadata": {
    "nbpresent": {
     "id": "a5a5364b-5d21-4c20-b229-601d25336ed0"
    },
    "slideshow": {
     "slide_type": "slide"
    }
   },
   "source": [
    "# Question 2 : \t(Algorithm design and complexity analysis)\n",
    "### For a square N x N matrix A, assume the elements are sorted in ascending order along the horizontal and vertical directions already, i.e., A[i][k] ≤ A[j][k] and A[k][i] ≤ A[k][j], where i<j. Develop an efficient algorithm to search for the query value v from A, return the location if found, None otherwise. Analyze the time complexity of your algorithm.\n",
    "\n",
    "#### The most basic way to approach a solution would be based on this step by step algorithm located below:\n",
    "\n",
    "Start at the top-right corner. Based on the posistion of [i][j].\n",
    "This is done by setting i equal to zero and j equal to cols minus one.\n",
    "*  1 - _While the value of [i] is greater than the rows(len(matrix)) and j is greater than or equal to 0 check that matrix[i][j] is equal to the target value._\n",
    " * 2 - _If matrix[i][j] == value return the matrix showing the value does exist in the array._\n",
    " * 3 - _Else if matrix[i][j] < target value then take the value of i and increment by one and repeat step two._\n",
    " * 4 - _Else if matrix[i][j] > target value then take the value of j and decrement by one and repeat step two._\n",
    "\n",
    "This binary search method would yield a time complexity of O(N + log(M/N)) which we set the M matrix and N matrix equal to each other which would give a run time of O(N)."
   ]
  },
  {
   "cell_type": "code",
   "execution_count": 18,
   "metadata": {
    "collapsed": false,
    "nbpresent": {
     "id": "1a326b24-8620-4c31-8108-82f1ecc3ba5e"
    },
    "slideshow": {
     "slide_type": "subslide"
    }
   },
   "outputs": [],
   "source": [
    "# Testing a possible solution using binary search as the most efficient solution.\n",
    "\n",
    "# This will be our matrix.\n",
    "A = [[1,3,17,21],[5,10,20,25],[30,65,99,100],[49,73,117,121]]\n",
    "\n",
    "\n",
    "def questionTwo(A, value):\n",
    "    rows = len(A)\n",
    "    cols = len(A[0])\n",
    "    if (rows == 0) or (cols == 0):\n",
    "        return 'This matrix contains no values.'\n",
    "    if rows != cols:\n",
    "        return 'This is not a square matrix.'\n",
    "\n",
    "    i = 0\n",
    "    j = cols - 1\n",
    "\n",
    "    while i < rows and j >= 0:\n",
    "        if A[i][j] == value:\n",
    "            return 'The following matrix: ' + str(A) + ' contains the value: ' + str(value)\n",
    "        elif A[i][j] < value:\n",
    "            i = i + 1\n",
    "            print('The row moved down the matrix: ' + str(A[i][j]))\n",
    "        else:\n",
    "            j = j - 1\n",
    "            print('The column moved to left of the matrix: ' + str(A[i][j]))\n",
    "    return 'The matrix does not contain the following value: ' + str(value)"
   ]
  },
  {
   "cell_type": "markdown",
   "metadata": {
    "collapsed": false,
    "slideshow": {
     "slide_type": "fragment"
    }
   },
   "source": [
    "In this example we will be using the given matrix A to work with in showing our implementation of our given alogrithim.\n",
    "\n",
    "The matrix is formated as:\n",
    "\n",
    " 1| 3| 17| 21|  \n",
    " 5|10| 20| 25|  \n",
    "30|65| 99|100|  \n",
    "49|73|117|121|  \n",
    "\n",
    "This is our sorted matrix and we will start at matrix[0][3] which is 21.  The goal is to see if the algorithm is able locate matrix[3][0] which is valued at 49 and show the step by step process.  "
   ]
  },
  {
   "cell_type": "code",
   "execution_count": 25,
   "metadata": {
    "collapsed": false,
    "nbpresent": {
     "id": "63a4f3a7-f97d-4e0b-ba0d-34566c1ab34a"
    },
    "slideshow": {
     "slide_type": "fragment"
    }
   },
   "outputs": [
    {
     "name": "stdout",
     "output_type": "stream",
     "text": [
      "The row moved down the matrix: 25\n",
      "The row moved down the matrix: 100\n",
      "The column moved to left of the matrix: 99\n",
      "The column moved to left of the matrix: 65\n",
      "The column moved to left of the matrix: 30\n",
      "The row moved down the matrix: 49\n",
      "The following matrix: [[1, 3, 17, 21], [5, 10, 20, 25], [30, 65, 99, 100], [49, 73, 117, 121]] contains the value: 49\n"
     ]
    }
   ],
   "source": [
    "print(questionTwo(A, 49))"
   ]
  },
  {
   "cell_type": "markdown",
   "metadata": {},
   "source": [
    "How about 99?"
   ]
  },
  {
   "cell_type": "code",
   "execution_count": 26,
   "metadata": {
    "collapsed": false,
    "nbpresent": {
     "id": "67b55fea-b751-4f84-b76a-59a38a044688"
    },
    "slideshow": {
     "slide_type": "fragment"
    }
   },
   "outputs": [
    {
     "name": "stdout",
     "output_type": "stream",
     "text": [
      "The row moved down the matrix: 25\n",
      "The row moved down the matrix: 100\n",
      "The column moved to left of the matrix: 99\n",
      "The following matrix: [[1, 3, 17, 21], [5, 10, 20, 25], [30, 65, 99, 100], [49, 73, 117, 121]] contains the value: 99\n"
     ]
    }
   ],
   "source": [
    "print(questionTwo(A,99))"
   ]
  },
  {
   "cell_type": "markdown",
   "metadata": {},
   "source": [
    "Let's check for a value that is not contained in the matix."
   ]
  },
  {
   "cell_type": "code",
   "execution_count": 27,
   "metadata": {
    "collapsed": false
   },
   "outputs": [
    {
     "name": "stdout",
     "output_type": "stream",
     "text": [
      "The row moved down the matrix: 25\n",
      "The row moved down the matrix: 100\n",
      "The column moved to left of the matrix: 99\n",
      "The column moved to left of the matrix: 65\n",
      "The column moved to left of the matrix: 30\n",
      "The row moved down the matrix: 49\n",
      "The column moved to left of the matrix: 121\n",
      "The matrix does not contain the following value: 45\n"
     ]
    }
   ],
   "source": [
    "print(questionTwo(A,45))"
   ]
  },
  {
   "cell_type": "markdown",
   "metadata": {},
   "source": [
    "These were placed as conditions in the event that our matrix contains no values in the array or if we have a m x n matrix"
   ]
  },
  {
   "cell_type": "code",
   "execution_count": 23,
   "metadata": {
    "collapsed": false,
    "nbpresent": {
     "id": "639009bc-67f7-4e28-9599-b77b99368be4"
    },
    "slideshow": {
     "slide_type": "fragment"
    }
   },
   "outputs": [
    {
     "data": {
      "text/plain": [
       "'This matrix contains no values.'"
      ]
     },
     "execution_count": 23,
     "metadata": {},
     "output_type": "execute_result"
    }
   ],
   "source": [
    "questionTwo([[],[0,0]],0)"
   ]
  },
  {
   "cell_type": "code",
   "execution_count": 24,
   "metadata": {
    "collapsed": false,
    "nbpresent": {
     "id": "663f1f96-8acb-46ee-8048-9caff7ff090f"
    },
    "slideshow": {
     "slide_type": "fragment"
    }
   },
   "outputs": [
    {
     "data": {
      "text/plain": [
       "'This is not a square matrix.'"
      ]
     },
     "execution_count": 24,
     "metadata": {},
     "output_type": "execute_result"
    }
   ],
   "source": [
    "questionTwo([[1,2,3],[4,5,6]], 6)"
   ]
  }
 ],
 "metadata": {
  "anaconda-cloud": {},
  "kernelspec": {
   "display_name": "Python [Root]",
   "language": "python",
   "name": "Python [Root]"
  },
  "language_info": {
   "codemirror_mode": {
    "name": "ipython",
    "version": 3
   },
   "file_extension": ".py",
   "mimetype": "text/x-python",
   "name": "python",
   "nbconvert_exporter": "python",
   "pygments_lexer": "ipython3",
   "version": "3.5.2"
  },
  "nbpresent": {
   "slides": {
    "76a37a03-73af-4354-99de-8f3ffc638b8f": {
     "id": "76a37a03-73af-4354-99de-8f3ffc638b8f",
     "prev": "a7e64b45-8212-49b7-9664-988a20ee83e3",
     "regions": {
      "15d54242-dd87-4372-9d01-e7ce0f2b7c24": {
       "attrs": {
        "height": 0.4,
        "width": 0.8,
        "x": 0.1,
        "y": 0.5
       },
       "content": {
        "cell": "63a4f3a7-f97d-4e0b-ba0d-34566c1ab34a",
        "part": "whole"
       },
       "id": "15d54242-dd87-4372-9d01-e7ce0f2b7c24"
      },
      "1d49bad6-59f5-4b47-81ba-f2e78e7e1f51": {
       "attrs": {
        "height": 0.8,
        "width": 0.8,
        "x": 0.1,
        "y": 0.1
       },
       "content": {
        "cell": "1a326b24-8620-4c31-8108-82f1ecc3ba5e",
        "part": "whole"
       },
       "id": "1d49bad6-59f5-4b47-81ba-f2e78e7e1f51"
      },
      "4fc20a2a-3b9a-4588-90ce-74eb52300133": {
       "attrs": {
        "height": 0.4,
        "width": 0.8,
        "x": 0.1,
        "y": 0.5
       },
       "content": {
        "cell": "663f1f96-8acb-46ee-8048-9caff7ff090f",
        "part": "whole"
       },
       "id": "4fc20a2a-3b9a-4588-90ce-74eb52300133"
      },
      "77d23eda-4005-44ef-a338-aa669e76ae4d": {
       "attrs": {
        "height": 0.4,
        "width": 0.8,
        "x": 0.1,
        "y": 0.5
       },
       "content": {
        "cell": "0b24fd32-adf0-4265-b49c-0eaf7acfd1f2",
        "part": "whole"
       },
       "id": "77d23eda-4005-44ef-a338-aa669e76ae4d"
      },
      "b17819ba-5c2f-40b3-a74e-ddbe62d69922": {
       "attrs": {
        "height": 0.4,
        "width": 0.8,
        "x": 0.1,
        "y": 0.5
       },
       "content": {
        "cell": "67b55fea-b751-4f84-b76a-59a38a044688",
        "part": "whole"
       },
       "id": "b17819ba-5c2f-40b3-a74e-ddbe62d69922"
      },
      "c94903fb-efff-480a-89bd-e84e9da01414": {
       "attrs": {
        "height": 0.4,
        "width": 0.8,
        "x": 0.1,
        "y": 0.5
       },
       "content": {
        "cell": "8931a061-92a2-4c8d-8b3e-f91078b14475",
        "part": "whole"
       },
       "id": "c94903fb-efff-480a-89bd-e84e9da01414"
      },
      "f5a06de4-aca1-4e63-abde-b9a586a7989f": {
       "attrs": {
        "height": 0.4,
        "width": 0.8,
        "x": 0.1,
        "y": 0.5
       },
       "content": {
        "cell": "639009bc-67f7-4e28-9599-b77b99368be4",
        "part": "whole"
       },
       "id": "f5a06de4-aca1-4e63-abde-b9a586a7989f"
      }
     }
    },
    "a7e64b45-8212-49b7-9664-988a20ee83e3": {
     "id": "a7e64b45-8212-49b7-9664-988a20ee83e3",
     "prev": null,
     "regions": {
      "587de546-b925-4df7-acdc-513fd6160060": {
       "attrs": {
        "height": 0.8,
        "width": 0.8,
        "x": 0.1,
        "y": 0.1
       },
       "content": {
        "cell": "a5a5364b-5d21-4c20-b229-601d25336ed0",
        "part": "whole"
       },
       "id": "587de546-b925-4df7-acdc-513fd6160060"
      }
     }
    }
   },
   "themes": {}
  }
 },
 "nbformat": 4,
 "nbformat_minor": 0
}
