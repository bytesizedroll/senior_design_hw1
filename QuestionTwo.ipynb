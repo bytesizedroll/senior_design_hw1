{
 "cells": [
  {
   "cell_type": "markdown",
   "metadata": {},
   "source": [
    "# Question 2 : \t(Algorithm design and complexity analysis)\n",
    "### For a square N x N matrix A, assume the elements are sorted in ascending order along the horizontal and vertical directions already, i.e., A[i][k] ≤ A[j][k] and A[k][i] ≤ A[k][j], where i<j. Develop an efficient algorithm to search for the query value v from A, return the location if found, None otherwise. Analyze the time complexity of your algorithm.\n",
    "\n",
    "#### The most basic way to approach a solution would be based on this step by step algorithm located below:\n",
    "\n",
    "Start at the top-right corner. Based on the posistion of [i][j].\n",
    "This is done by setting i equal to zero and j equal to cols minus one.\n",
    "*  1 - _While the value of [i] is greater than the rows(len(matrix)) and j is greater than or equal to 0 check that matrix[i][j] is equal to the target value._\n",
    " * 2 - _If matrix[i][j] == value return the matrix showing the value does exist in the array._\n",
    " * 3 - _Else if matrix[i][j] < target value then take the value of i and increment by one and repeat step two._\n",
    " * 4 - _Else if matrix[i][j] > target value then take the value of j and decrement by one and repeat step two._\n",
    "\n",
    "This binary search method would yield a time complexity of O(N * log(M/N) with M matrix equal to N matrix for n x n."
   ]
  },
  {
   "cell_type": "code",
   "execution_count": 204,
   "metadata": {
    "collapsed": false
   },
   "outputs": [],
   "source": [
    "# Testing a possible solution using binary search as the most efficient solution.\n",
    "\n",
    "# This will be our matrix.\n",
    "A = [[1,3,17,21],[5,10,20,25],[30,65,99,100],[49,73,117,121]]\n",
    "\n",
    "\n",
    "def questionTwo(A, value):\n",
    "    rows = len(A)\n",
    "    cols = len(A[0])\n",
    "    if (rows == 0) or (cols == 0):\n",
    "        return 'This matrix contains no values.'\n",
    "    if rows != cols:\n",
    "        return 'This is not a square matrix.'\n",
    "\n",
    "    i = 0\n",
    "    j = cols - 1\n",
    "\n",
    "    while i < rows and j >= 0:\n",
    "        if A[i][j] == value:\n",
    "            return 'The following matrix: ' + str(A) + ' contains the value: ' + str(value)\n",
    "        elif A[i][j] < value:\n",
    "            i = i + 1\n",
    "        else:\n",
    "            j = j - 1\n",
    "    return 'The matrix does not contain the following value: ' + str(value)"
   ]
  },
  {
   "cell_type": "code",
   "execution_count": 205,
   "metadata": {
    "collapsed": false
   },
   "outputs": [
    {
     "data": {
      "text/plain": [
       "21"
      ]
     },
     "execution_count": 205,
     "metadata": {},
     "output_type": "execute_result"
    }
   ],
   "source": [
    "A[0][3]"
   ]
  },
  {
   "cell_type": "code",
   "execution_count": 206,
   "metadata": {
    "collapsed": false
   },
   "outputs": [
    {
     "data": {
      "text/plain": [
       "4"
      ]
     },
     "execution_count": 206,
     "metadata": {},
     "output_type": "execute_result"
    }
   ],
   "source": [
    "len(A[0])"
   ]
  },
  {
   "cell_type": "code",
   "execution_count": 207,
   "metadata": {
    "collapsed": false
   },
   "outputs": [
    {
     "name": "stdout",
     "output_type": "stream",
     "text": [
      "The following matrix: [[1, 3, 17, 21], [5, 10, 20, 25], [30, 65, 99, 100], [49, 73, 117, 121]] contains the value: 1\n",
      "The following matrix: [[1, 3, 17, 21], [5, 10, 20, 25], [30, 65, 99, 100], [49, 73, 117, 121]] contains the value: 117\n"
     ]
    }
   ],
   "source": [
    "print(questionTwo(A, 1))\n",
    "print(questionTwo(A, 117))"
   ]
  },
  {
   "cell_type": "code",
   "execution_count": 208,
   "metadata": {
    "collapsed": false
   },
   "outputs": [
    {
     "name": "stdout",
     "output_type": "stream",
     "text": [
      "The following matrix: [[1, 3, 17, 21], [5, 10, 20, 25], [30, 65, 99, 100], [49, 73, 117, 121]] contains the value: 99\n",
      "The matrix does not contain the following value: 45\n"
     ]
    }
   ],
   "source": [
    "print(questionTwo(A,99))\n",
    "print(questionTwo(A,45))"
   ]
  },
  {
   "cell_type": "code",
   "execution_count": 209,
   "metadata": {
    "collapsed": false
   },
   "outputs": [
    {
     "data": {
      "text/plain": [
       "'This matrix contains no values.'"
      ]
     },
     "execution_count": 209,
     "metadata": {},
     "output_type": "execute_result"
    }
   ],
   "source": [
    "questionTwo([[],[0,0]],0)"
   ]
  },
  {
   "cell_type": "code",
   "execution_count": 210,
   "metadata": {
    "collapsed": false
   },
   "outputs": [
    {
     "data": {
      "text/plain": [
       "'This is not a square matrix.'"
      ]
     },
     "execution_count": 210,
     "metadata": {},
     "output_type": "execute_result"
    }
   ],
   "source": [
    "questionTwo([[1,2,3],[4,5,6]], 6)"
   ]
  }
 ],
 "metadata": {
  "kernelspec": {
   "display_name": "Python [Root]",
   "language": "python",
   "name": "Python [Root]"
  },
  "language_info": {
   "codemirror_mode": {
    "name": "ipython",
    "version": 3
   },
   "file_extension": ".py",
   "mimetype": "text/x-python",
   "name": "python",
   "nbconvert_exporter": "python",
   "pygments_lexer": "ipython3",
   "version": "3.5.2"
  }
 },
 "nbformat": 4,
 "nbformat_minor": 0
}
